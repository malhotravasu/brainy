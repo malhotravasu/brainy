{
 "cells": [
  {
   "cell_type": "code",
   "execution_count": 8,
   "metadata": {},
   "outputs": [],
   "source": [
    "# Importing the framework and the required files\n",
    "\n",
    "import numpy as np\n",
    "from framework import NN\n",
    "from helpers import sigmoid\n",
    "from sklearn.preprocessing import StandardScaler"
   ]
  },
  {
   "cell_type": "code",
   "execution_count": 9,
   "metadata": {},
   "outputs": [
    {
     "name": "stdout",
     "output_type": "stream",
     "text": [
      "(8, 768)\n",
      "(1, 768)\n"
     ]
    }
   ],
   "source": [
    "# Getting and preprocessing the data\n",
    "\n",
    "data = []\n",
    "target =[]\n",
    "\n",
    "filename = \"data/diabetes.csv\" # Insert csv file name here\n",
    "handle = open(filename, 'r')\n",
    "for line in handle:\n",
    "    row = list(map(float, line.split(sep=',')))\n",
    "    instance = row[:-1]\n",
    "    prediction = row[-1]\n",
    "    data.append(instance)\n",
    "    target.append(prediction)\n",
    "\n",
    "data = np.array(data)\n",
    "scaler = StandardScaler()\n",
    "data = scaler.fit_transform(data)\n",
    "np.random.shuffle(data)\n",
    "data = data.T\n",
    "(n, m) = data.shape\n",
    "target = np.array(target).reshape((1, m))\n",
    "\n",
    "print(data.shape) # Single column represents a single data instance, Rows represents attributes\n",
    "print(target.shape) # The actual Outputs to be predicted"
   ]
  },
  {
   "cell_type": "code",
   "execution_count": 10,
   "metadata": {},
   "outputs": [
    {
     "name": "stdout",
     "output_type": "stream",
     "text": [
      "(8, 500)\n",
      "(1, 500)\n",
      "(8, 268)\n",
      "(1, 268)\n"
     ]
    }
   ],
   "source": [
    "# Train Test Split\n",
    "\n",
    "X = data[:, :500]\n",
    "Y = target[:, :500]\n",
    "\n",
    "X_test = data[:, 500:]\n",
    "Y_test = target[:, 500:]\n",
    "\n",
    "print(X.shape)\n",
    "print(Y.shape)\n",
    "print(X_test.shape)\n",
    "print(Y_test.shape)"
   ]
  },
  {
   "cell_type": "code",
   "execution_count": 11,
   "metadata": {},
   "outputs": [],
   "source": [
    "# Initialising the Model (Just 2 lines of code!)\n",
    "\n",
    "h = 3 # Number of neurons in hidden layer\n",
    "model = NN(X, Y, [n, h, 1])"
   ]
  },
  {
   "cell_type": "code",
   "execution_count": 12,
   "metadata": {},
   "outputs": [
    {
     "name": "stdout",
     "output_type": "stream",
     "text": [
      "Cost after iteration 0: 0.693116\n",
      "Cost after iteration 10: 0.693024\n",
      "Cost after iteration 20: 0.692932\n",
      "Cost after iteration 30: 0.692840\n",
      "Cost after iteration 40: 0.692748\n"
     ]
    }
   ],
   "source": [
    "# Training\n",
    "\n",
    "model.train(learning_rate=0.0005, num_iterations=50)"
   ]
  },
  {
   "cell_type": "code",
   "execution_count": 13,
   "metadata": {},
   "outputs": [
    {
     "name": "stdout",
     "output_type": "stream",
     "text": [
      "Accuracy: 63.6 %\n"
     ]
    }
   ],
   "source": [
    "# Train Accuracy\n",
    "# Experiment with number of iterations and number of neurons in hidden layer\n",
    "# and see the accuracy change!\n",
    "\n",
    "y_pred = model.predict(X)\n",
    "print ('Train Accuracy:', ((Y == y_pred).sum()/Y.size*100), '%')"
   ]
  },
  {
   "cell_type": "code",
   "execution_count": 14,
   "metadata": {},
   "outputs": [
    {
     "name": "stdout",
     "output_type": "stream",
     "text": [
      "Accuracy: 67.91044776119402 %\n"
     ]
    }
   ],
   "source": [
    "# Test accuracy\n",
    "\n",
    "y_pred_test = model.predict(X_test)\n",
    "print ('Test Accuracy:', ((y_pred_test == Y_test).sum()/Y_test.size*100), '%')"
   ]
  }
 ],
 "metadata": {
  "kernelspec": {
   "display_name": "Python [conda root]",
   "language": "python",
   "name": "conda-root-py"
  },
  "language_info": {
   "codemirror_mode": {
    "name": "ipython",
    "version": 3
   },
   "file_extension": ".py",
   "mimetype": "text/x-python",
   "name": "python",
   "nbconvert_exporter": "python",
   "pygments_lexer": "ipython3",
   "version": "3.6.5"
  }
 },
 "nbformat": 4,
 "nbformat_minor": 2
}
